{
 "cells": [
  {
   "cell_type": "code",
   "execution_count": 1,
   "metadata": {},
   "outputs": [],
   "source": [
    "import os\n",
    "import gensim\n",
    "# Set file names for train and test data\n",
    "test_data_dir = os.path.join(gensim.__path__[0], 'test', 'test_data')\n",
    "lee_train_file = os.path.join(test_data_dir, 'lee_background.cor')\n",
    "lee_test_file = os.path.join(test_data_dir, 'lee.cor')"
   ]
  },
  {
   "cell_type": "code",
   "execution_count": 2,
   "metadata": {},
   "outputs": [
    {
     "data": {
      "text/plain": [
       "'/Users/ariedamuco/opt/anaconda3/lib/python3.8/site-packages/gensim'"
      ]
     },
     "execution_count": 2,
     "metadata": {},
     "output_type": "execute_result"
    }
   ],
   "source": [
    "gensim.__path__[0]\n"
   ]
  },
  {
   "cell_type": "code",
   "execution_count": 3,
   "metadata": {},
   "outputs": [],
   "source": [
    "import smart_open\n",
    "\n",
    "def read_corpus(fname, tokens_only=False):\n",
    "    with smart_open.open(fname, encoding=\"iso-8859-1\") as f:\n",
    "        for i, line in enumerate(f):\n",
    "            tokens = gensim.utils.simple_preprocess(line)\n",
    "            if tokens_only:\n",
    "                yield tokens\n",
    "            else:\n",
    "                # For training data, add tags\n",
    "                yield gensim.models.doc2vec.TaggedDocument(tokens, [i])\n",
    "\n",
    "train_corpus = list(read_corpus(lee_train_file))\n",
    "test_corpus = list(read_corpus(lee_test_file, tokens_only=True))"
   ]
  },
  {
   "cell_type": "code",
   "execution_count": 4,
   "metadata": {},
   "outputs": [
    {
     "data": {
      "text/plain": [
       "300"
      ]
     },
     "execution_count": 4,
     "metadata": {},
     "output_type": "execute_result"
    }
   ],
   "source": [
    "len(train_corpus)\n",
    "#test_corpus"
   ]
  },
  {
   "cell_type": "code",
   "execution_count": 5,
   "metadata": {},
   "outputs": [],
   "source": [
    "model = gensim.models.doc2vec.Doc2Vec(vector_size=50, min_count=2, epochs=40)\n"
   ]
  },
  {
   "cell_type": "code",
   "execution_count": 6,
   "metadata": {},
   "outputs": [],
   "source": [
    "a = model.build_vocab(train_corpus)"
   ]
  },
  {
   "cell_type": "code",
   "execution_count": 7,
   "metadata": {},
   "outputs": [
    {
     "data": {
      "text/plain": [
       "NoneType"
      ]
     },
     "execution_count": 7,
     "metadata": {},
     "output_type": "execute_result"
    }
   ],
   "source": [
    "type(a)"
   ]
  },
  {
   "cell_type": "code",
   "execution_count": 8,
   "metadata": {},
   "outputs": [
    {
     "data": {
      "text/plain": [
       "['__bool__',\n",
       " '__class__',\n",
       " '__delattr__',\n",
       " '__dir__',\n",
       " '__doc__',\n",
       " '__eq__',\n",
       " '__format__',\n",
       " '__ge__',\n",
       " '__getattribute__',\n",
       " '__gt__',\n",
       " '__hash__',\n",
       " '__init__',\n",
       " '__init_subclass__',\n",
       " '__le__',\n",
       " '__lt__',\n",
       " '__ne__',\n",
       " '__new__',\n",
       " '__reduce__',\n",
       " '__reduce_ex__',\n",
       " '__repr__',\n",
       " '__setattr__',\n",
       " '__sizeof__',\n",
       " '__str__',\n",
       " '__subclasshook__']"
      ]
     },
     "execution_count": 8,
     "metadata": {},
     "output_type": "execute_result"
    }
   ],
   "source": [
    "dir(a)"
   ]
  },
  {
   "cell_type": "code",
   "execution_count": 9,
   "metadata": {},
   "outputs": [
    {
     "name": "stdout",
     "output_type": "stream",
     "text": [
      "Word 'australia' appeared 157 times in the training corpus.\n"
     ]
    }
   ],
   "source": [
    "print(f\"Word 'australia' appeared {model.wv.get_vecattr('australia', 'count')} times in the training corpus.\")"
   ]
  },
  {
   "cell_type": "code",
   "execution_count": 10,
   "metadata": {},
   "outputs": [],
   "source": [
    "model.train(train_corpus, total_examples=model.corpus_count, epochs=model.epochs)"
   ]
  },
  {
   "cell_type": "code",
   "execution_count": 11,
   "metadata": {},
   "outputs": [
    {
     "name": "stdout",
     "output_type": "stream",
     "text": [
      "[-0.1298413  -0.26351744 -0.16206652  0.25780457 -0.12477654 -0.02890203\n",
      "  0.0207357  -0.06182202 -0.33271995 -0.26591545  0.05074275  0.03833982\n",
      " -0.01972873  0.04386122 -0.12174339 -0.03690551  0.11654571  0.27582285\n",
      "  0.12707412 -0.15202868  0.07332347 -0.04773286  0.27094755 -0.04652206\n",
      "  0.06794368 -0.02625057 -0.25737736  0.00850258 -0.2483172  -0.04580629\n",
      "  0.45191035  0.01146388  0.17048824  0.0722725   0.18929929  0.14721116\n",
      " -0.04898207 -0.25986546  0.01616161 -0.03928765  0.07648917  0.04194674\n",
      " -0.04888457 -0.1670667   0.27372187  0.1297825  -0.06701881 -0.106051\n",
      "  0.24347265 -0.08975735]\n"
     ]
    }
   ],
   "source": [
    "vector = model.infer_vector(['only', 'you', 'can', 'prevent', 'forest', 'fires'])\n",
    "print(vector)"
   ]
  },
  {
   "cell_type": "code",
   "execution_count": 12,
   "metadata": {},
   "outputs": [],
   "source": [
    "sentence = ['only', 'you', 'can', 'prevent', 'forest', 'fires']\n",
    "vec = 0\n",
    "for element in sentence:\n",
    "    element = model.infer_vector([element])\n",
    "    vec = vec + element\n",
    "    \n",
    "vec=vec/len(sentence)\n",
    "        \n",
    "    "
   ]
  },
  {
   "cell_type": "code",
   "execution_count": 13,
   "metadata": {},
   "outputs": [
    {
     "data": {
      "text/plain": [
       "array([-0.23950106, -0.02897451, -0.06777478, -0.00580347, -0.04478599,\n",
       "       -0.09598824,  0.04626723,  0.07935983, -0.15244988, -0.106529  ,\n",
       "        0.08025175, -0.10874251,  0.0317119 , -0.04808137, -0.12334748,\n",
       "       -0.02115649,  0.14514613,  0.07758651, -0.06570814, -0.10085595,\n",
       "        0.11167425,  0.05832593,  0.24622466, -0.10549525,  0.09983471,\n",
       "       -0.05586858, -0.16435085, -0.02864029, -0.13045241, -0.13050914,\n",
       "        0.10650271,  0.02406158, -0.00510718,  0.16439267, -0.02118719,\n",
       "        0.06664506,  0.00870092, -0.10596772,  0.03006651, -0.00634379,\n",
       "        0.11851584,  0.06964938, -0.08974657, -0.05687732,  0.21982867,\n",
       "        0.12488998,  0.0994859 , -0.09217793,  0.11379348,  0.02167792],\n",
       "      dtype=float32)"
      ]
     },
     "execution_count": 13,
     "metadata": {},
     "output_type": "execute_result"
    }
   ],
   "source": [
    "vec"
   ]
  },
  {
   "cell_type": "code",
   "execution_count": 14,
   "metadata": {},
   "outputs": [
    {
     "data": {
      "text/plain": [
       "50"
      ]
     },
     "execution_count": 14,
     "metadata": {},
     "output_type": "execute_result"
    }
   ],
   "source": [
    "len(model.infer_vector(train_corpus[1].words))"
   ]
  },
  {
   "cell_type": "code",
   "execution_count": 15,
   "metadata": {},
   "outputs": [],
   "source": [
    "ranks = []\n",
    "second_ranks = []\n",
    "first_ranks = []\n",
    "for doc_id in range(len(train_corpus)):\n",
    "    inferred_vector = model.infer_vector(train_corpus[doc_id].words)\n",
    "    sims = model.dv.most_similar([inferred_vector], topn=len(model.dv))\n",
    "    rank = [docid for docid, sim in sims].index(doc_id)\n",
    "    ranks.append(rank)\n",
    "    \n",
    "    first_ranks.append(sims[0])\n",
    "    second_ranks.append(sims[1])"
   ]
  },
  {
   "cell_type": "code",
   "execution_count": 16,
   "metadata": {},
   "outputs": [
    {
     "data": {
      "text/plain": [
       "[(0, 0.9730887413024902),\n",
       " (1, 0.9550246596336365),\n",
       " (2, 0.9374590516090393),\n",
       " (3, 0.9116206765174866),\n",
       " (4, 0.9186385869979858),\n",
       " (5, 0.9173019528388977),\n",
       " (6, 0.9711156487464905),\n",
       " (7, 0.9440189599990845),\n",
       " (8, 0.9706077575683594),\n",
       " (9, 0.9526470303535461),\n",
       " (10, 0.9443311095237732),\n",
       " (11, 0.9186559915542603),\n",
       " (12, 0.9505726099014282),\n",
       " (13, 0.9423649311065674),\n",
       " (14, 0.9652225375175476),\n",
       " (15, 0.9314064383506775),\n",
       " (16, 0.948931872844696),\n",
       " (17, 0.9565064311027527),\n",
       " (18, 0.9090035557746887),\n",
       " (19, 0.9549897313117981),\n",
       " (20, 0.9063193202018738),\n",
       " (21, 0.958569347858429),\n",
       " (22, 0.9407030344009399),\n",
       " (23, 0.9186989068984985),\n",
       " (24, 0.9182595014572144),\n",
       " (25, 0.9511631727218628),\n",
       " (26, 0.9174779653549194),\n",
       " (27, 0.9581631422042847),\n",
       " (28, 0.906255304813385),\n",
       " (29, 0.9377850294113159),\n",
       " (30, 0.9034258127212524),\n",
       " (31, 0.9518626928329468),\n",
       " (32, 0.9369925260543823),\n",
       " (33, 0.9675165414810181),\n",
       " (34, 0.9684593081474304),\n",
       " (35, 0.9636623859405518),\n",
       " (36, 0.9484882354736328),\n",
       " (37, 0.9720779657363892),\n",
       " (38, 0.9526151418685913),\n",
       " (39, 0.9315469264984131),\n",
       " (40, 0.9676699638366699),\n",
       " (41, 0.9476029872894287),\n",
       " (42, 0.9273269176483154),\n",
       " (43, 0.9609109163284302),\n",
       " (44, 0.9602743983268738),\n",
       " (45, 0.952126681804657),\n",
       " (46, 0.9413493871688843),\n",
       " (47, 0.9310776591300964),\n",
       " (48, 0.9661945700645447),\n",
       " (49, 0.9572338461875916),\n",
       " (50, 0.9640159010887146),\n",
       " (51, 0.8628710508346558),\n",
       " (52, 0.9648410081863403),\n",
       " (53, 0.9015591144561768),\n",
       " (54, 0.9356334805488586),\n",
       " (55, 0.9547426700592041),\n",
       " (56, 0.8920276761054993),\n",
       " (57, 0.9324285387992859),\n",
       " (58, 0.9500276446342468),\n",
       " (59, 0.9674253463745117),\n",
       " (60, 0.9446759223937988),\n",
       " (61, 0.9183874130249023),\n",
       " (62, 0.9333677887916565),\n",
       " (63, 0.9076641798019409),\n",
       " (64, 0.940407395362854),\n",
       " (65, 0.8973207473754883),\n",
       " (66, 0.939972460269928),\n",
       " (67, 0.9194219708442688),\n",
       " (68, 0.9398611783981323),\n",
       " (69, 0.9232118129730225),\n",
       " (70, 0.8989461064338684),\n",
       " (71, 0.9107483625411987),\n",
       " (72, 0.9576901197433472),\n",
       " (73, 0.9325039386749268),\n",
       " (74, 0.9718600511550903),\n",
       " (75, 0.9411742687225342),\n",
       " (76, 0.9484837651252747),\n",
       " (77, 0.8958284258842468),\n",
       " (78, 0.9511512517929077),\n",
       " (79, 0.9649863243103027),\n",
       " (80, 0.9373626708984375),\n",
       " (81, 0.9537795186042786),\n",
       " (82, 0.9546953439712524),\n",
       " (83, 0.928958535194397),\n",
       " (84, 0.9336458444595337),\n",
       " (85, 0.9270288348197937),\n",
       " (86, 0.9325977563858032),\n",
       " (87, 0.9325605630874634),\n",
       " (88, 0.9687345623970032),\n",
       " (89, 0.918939471244812),\n",
       " (90, 0.9483571648597717),\n",
       " (91, 0.9186081290245056),\n",
       " (92, 0.9400169253349304),\n",
       " (93, 0.963294267654419),\n",
       " (94, 0.9603586792945862),\n",
       " (95, 0.9060201644897461),\n",
       " (96, 0.9201644659042358),\n",
       " (97, 0.9543168544769287),\n",
       " (98, 0.9756166934967041),\n",
       " (99, 0.9226163029670715),\n",
       " (100, 0.9319190382957458),\n",
       " (101, 0.9448347687721252),\n",
       " (102, 0.9437634348869324),\n",
       " (103, 0.9499344825744629),\n",
       " (112, 0.9717313051223755),\n",
       " (105, 0.942063570022583),\n",
       " (106, 0.9271925091743469),\n",
       " (107, 0.9813579320907593),\n",
       " (108, 0.9263983368873596),\n",
       " (109, 0.9583856463432312),\n",
       " (110, 0.9213727712631226),\n",
       " (111, 0.945107102394104),\n",
       " (112, 0.9677296876907349),\n",
       " (113, 0.9318690896034241),\n",
       " (114, 0.9634395241737366),\n",
       " (115, 0.935937762260437),\n",
       " (116, 0.9686094522476196),\n",
       " (117, 0.9474693536758423),\n",
       " (118, 0.9669250845909119),\n",
       " (115, 0.940257728099823),\n",
       " (117, 0.9504300951957703),\n",
       " (121, 0.9247671961784363),\n",
       " (122, 0.945007860660553),\n",
       " (123, 0.926092803478241),\n",
       " (124, 0.9070866703987122),\n",
       " (125, 0.9585921168327332),\n",
       " (126, 0.8865283727645874),\n",
       " (127, 0.9457862377166748),\n",
       " (128, 0.9463135600090027),\n",
       " (129, 0.9489820599555969),\n",
       " (130, 0.9480715394020081),\n",
       " (131, 0.9489501118659973),\n",
       " (132, 0.967622697353363),\n",
       " (133, 0.9535998106002808),\n",
       " (134, 0.9632045030593872),\n",
       " (135, 0.9467357993125916),\n",
       " (136, 0.9494571089744568),\n",
       " (137, 0.9505910277366638),\n",
       " (138, 0.962266206741333),\n",
       " (139, 0.9422076940536499),\n",
       " (140, 0.9557530283927917),\n",
       " (141, 0.9159303307533264),\n",
       " (142, 0.9321616888046265),\n",
       " (143, 0.9114158153533936),\n",
       " (144, 0.8797399997711182),\n",
       " (145, 0.9631802439689636),\n",
       " (146, 0.919098436832428),\n",
       " (147, 0.9655686616897583),\n",
       " (148, 0.9510185718536377),\n",
       " (149, 0.9174721837043762),\n",
       " (150, 0.9625056982040405),\n",
       " (151, 0.9254879355430603),\n",
       " (152, 0.9508584141731262),\n",
       " (153, 0.9718464612960815),\n",
       " (154, 0.931930661201477),\n",
       " (155, 0.9353501796722412),\n",
       " (150, 0.963310956954956),\n",
       " (157, 0.9437560439109802),\n",
       " (158, 0.9371145963668823),\n",
       " (159, 0.9311248660087585),\n",
       " (160, 0.9637237191200256),\n",
       " (161, 0.9613621234893799),\n",
       " (162, 0.937017560005188),\n",
       " (163, 0.9545496702194214),\n",
       " (164, 0.9021207094192505),\n",
       " (165, 0.9379854202270508),\n",
       " (166, 0.9725474119186401),\n",
       " (167, 0.9588427543640137),\n",
       " (168, 0.9568719267845154),\n",
       " (169, 0.938961386680603),\n",
       " (170, 0.9567815065383911),\n",
       " (171, 0.9433319568634033),\n",
       " (172, 0.9622439742088318),\n",
       " (173, 0.9356769919395447),\n",
       " (174, 0.900672197341919),\n",
       " (175, 0.9209871292114258),\n",
       " (176, 0.9495828151702881),\n",
       " (177, 0.9433916211128235),\n",
       " (178, 0.9065060615539551),\n",
       " (179, 0.9642178416252136),\n",
       " (180, 0.9260593056678772),\n",
       " (181, 0.9469733834266663),\n",
       " (182, 0.9571653008460999),\n",
       " (183, 0.9527670741081238),\n",
       " (184, 0.9659507870674133),\n",
       " (185, 0.908637523651123),\n",
       " (186, 0.9185612201690674),\n",
       " (187, 0.9653494954109192),\n",
       " (188, 0.9257348775863647),\n",
       " (189, 0.9518155455589294),\n",
       " (190, 0.9373981952667236),\n",
       " (191, 0.9681028127670288),\n",
       " (192, 0.9615185856819153),\n",
       " (193, 0.9190556406974792),\n",
       " (194, 0.9754042625427246),\n",
       " (195, 0.9597840309143066),\n",
       " (196, 0.9333036541938782),\n",
       " (197, 0.9474780559539795),\n",
       " (198, 0.876656711101532),\n",
       " (199, 0.9140335917472839),\n",
       " (200, 0.9740827083587646),\n",
       " (201, 0.9570045471191406),\n",
       " (202, 0.9402273297309875),\n",
       " (203, 0.9178174138069153),\n",
       " (204, 0.9241617918014526),\n",
       " (205, 0.9457243084907532),\n",
       " (206, 0.93668532371521),\n",
       " (207, 0.9168315529823303),\n",
       " (208, 0.9289153218269348),\n",
       " (209, 0.9595858454704285),\n",
       " (210, 0.9606233239173889),\n",
       " (211, 0.9615918397903442),\n",
       " (212, 0.9483131766319275),\n",
       " (213, 0.9543792009353638),\n",
       " (214, 0.9570310115814209),\n",
       " (215, 0.9588831663131714),\n",
       " (216, 0.9366529583930969),\n",
       " (217, 0.949566662311554),\n",
       " (218, 0.9419931769371033),\n",
       " (219, 0.9191204309463501),\n",
       " (220, 0.9506221413612366),\n",
       " (221, 0.9375782012939453),\n",
       " (222, 0.9259774088859558),\n",
       " (223, 0.9525868892669678),\n",
       " (224, 0.952806830406189),\n",
       " (225, 0.9217777848243713),\n",
       " (226, 0.9249513745307922),\n",
       " (227, 0.9311429262161255),\n",
       " (228, 0.9302726984024048),\n",
       " (229, 0.9455093741416931),\n",
       " (230, 0.9503232836723328),\n",
       " (231, 0.9584348201751709),\n",
       " (232, 0.9735819101333618),\n",
       " (233, 0.9502230882644653),\n",
       " (234, 0.9526705145835876),\n",
       " (235, 0.9269751310348511),\n",
       " (230, 0.9503942728042603),\n",
       " (237, 0.9525536894798279),\n",
       " (238, 0.9414985775947571),\n",
       " (239, 0.947481632232666),\n",
       " (240, 0.8986989855766296),\n",
       " (232, 0.973637580871582),\n",
       " (242, 0.9430857300758362),\n",
       " (243, 0.9509493708610535),\n",
       " (244, 0.9386836290359497),\n",
       " (245, 0.9459190964698792),\n",
       " (246, 0.9401914477348328),\n",
       " (247, 0.9461315274238586),\n",
       " (248, 0.9416358470916748),\n",
       " (249, 0.961401641368866),\n",
       " (250, 0.9731903672218323),\n",
       " (251, 0.9450206160545349),\n",
       " (252, 0.9584163427352905),\n",
       " (253, 0.92629075050354),\n",
       " (254, 0.961631178855896),\n",
       " (255, 0.9372302889823914),\n",
       " (256, 0.9189863801002502),\n",
       " (257, 0.9475920796394348),\n",
       " (258, 0.9144658446311951),\n",
       " (259, 0.9731686115264893),\n",
       " (260, 0.9452274441719055),\n",
       " (261, 0.9593353271484375),\n",
       " (262, 0.9506664872169495),\n",
       " (263, 0.9424432516098022),\n",
       " (264, 0.9524726271629333),\n",
       " (265, 0.9488751292228699),\n",
       " (266, 0.9147048592567444),\n",
       " (267, 0.9616819620132446),\n",
       " (268, 0.9592698216438293),\n",
       " (269, 0.9164181351661682),\n",
       " (270, 0.9415728449821472),\n",
       " (263, 0.9428756237030029),\n",
       " (272, 0.9555808305740356),\n",
       " (273, 0.9285873770713806),\n",
       " (274, 0.9553154706954956),\n",
       " (275, 0.9507204294204712),\n",
       " (276, 0.9334729909896851),\n",
       " (277, 0.9716630578041077),\n",
       " (278, 0.9389640092849731),\n",
       " (279, 0.9643362164497375),\n",
       " (280, 0.9146581292152405),\n",
       " (281, 0.9569234251976013),\n",
       " (282, 0.9042840003967285),\n",
       " (283, 0.9634554386138916),\n",
       " (284, 0.953654408454895),\n",
       " (285, 0.9529361724853516),\n",
       " (286, 0.8611768484115601),\n",
       " (287, 0.9260151386260986),\n",
       " (281, 0.9529438018798828),\n",
       " (289, 0.929571807384491),\n",
       " (290, 0.8623415231704712),\n",
       " (291, 0.9420562982559204),\n",
       " (292, 0.9562265276908875),\n",
       " (293, 0.9451501965522766),\n",
       " (294, 0.9092093706130981),\n",
       " (295, 0.8657333254814148),\n",
       " (296, 0.9157987236976624),\n",
       " (297, 0.9472454786300659),\n",
       " (298, 0.9083359837532043),\n",
       " (299, 0.9493477940559387)]"
      ]
     },
     "execution_count": 16,
     "metadata": {},
     "output_type": "execute_result"
    }
   ],
   "source": [
    "first_ranks"
   ]
  },
  {
   "cell_type": "code",
   "execution_count": 17,
   "metadata": {
    "scrolled": true
   },
   "outputs": [
    {
     "data": {
      "text/plain": [
       "[(48, 0.9009266495704651),\n",
       " (143, 0.7628950476646423),\n",
       " (21, 0.8521811366081238),\n",
       " (269, 0.6855833530426025),\n",
       " (33, 0.7279812693595886),\n",
       " (218, 0.6723355650901794),\n",
       " (17, 0.8034862875938416),\n",
       " (15, 0.8375425934791565),\n",
       " (48, 0.8977537751197815),\n",
       " (8, 0.8198491930961609),\n",
       " (264, 0.7979761958122253),\n",
       " (188, 0.7233511805534363),\n",
       " (26, 0.7131016850471497),\n",
       " (292, 0.7325883507728577),\n",
       " (277, 0.8672385811805725),\n",
       " (27, 0.7963988184928894),\n",
       " (139, 0.8452092409133911),\n",
       " (6, 0.838197648525238),\n",
       " (71, 0.7155660390853882),\n",
       " (40, 0.7907366752624512),\n",
       " (156, 0.6495237946510315),\n",
       " (43, 0.875139594078064),\n",
       " (179, 0.7793442010879517),\n",
       " (56, 0.7290645837783813),\n",
       " (188, 0.6434575319290161),\n",
       " (10, 0.8611453175544739),\n",
       " (12, 0.7461656928062439),\n",
       " (15, 0.8812684416770935),\n",
       " (56, 0.7032357454299927),\n",
       " (173, 0.7514073252677917),\n",
       " (121, 0.7149563431739807),\n",
       " (251, 0.7335489392280579),\n",
       " (39, 0.7664366364479065),\n",
       " (8, 0.879328191280365),\n",
       " (12, 0.6737383604049683),\n",
       " (127, 0.7426714301109314),\n",
       " (224, 0.5261580348014832),\n",
       " (118, 0.8535496592521667),\n",
       " (211, 0.7379511594772339),\n",
       " (15, 0.8301626443862915),\n",
       " (48, 0.8858197331428528),\n",
       " (75, 0.7290452718734741),\n",
       " (182, 0.7289999127388),\n",
       " (21, 0.9046010971069336),\n",
       " (81, 0.8545066118240356),\n",
       " (130, 0.7215412259101868),\n",
       " (15, 0.8184185028076172),\n",
       " (139, 0.8590723276138306),\n",
       " (0, 0.9094845056533813),\n",
       " (160, 0.6060503721237183),\n",
       " (153, 0.7982954978942871),\n",
       " (141, 0.7374705672264099),\n",
       " (25, 0.8251498341560364),\n",
       " (238, 0.6911664605140686),\n",
       " (23, 0.7143335938453674),\n",
       " (112, 0.8545874953269958),\n",
       " (23, 0.8156306147575378),\n",
       " (74, 0.7779402732849121),\n",
       " (183, 0.823818564414978),\n",
       " (72, 0.959945797920227),\n",
       " (220, 0.8185879588127136),\n",
       " (204, 0.7120206356048584),\n",
       " (188, 0.7224129438400269),\n",
       " (10, 0.6359009742736816),\n",
       " (83, 0.8298367261886597),\n",
       " (225, 0.623737096786499),\n",
       " (76, 0.7539002299308777),\n",
       " (128, 0.8532217741012573),\n",
       " (206, 0.6887753009796143),\n",
       " (166, 0.7788459062576294),\n",
       " (280, 0.7214183807373047),\n",
       " (59, 0.711676836013794),\n",
       " (59, 0.940151035785675),\n",
       " (90, 0.8535817861557007),\n",
       " (249, 0.8582689166069031),\n",
       " (160, 0.7876659035682678),\n",
       " (66, 0.7593364119529724),\n",
       " (84, 0.7158511281013489),\n",
       " (102, 0.8001992702484131),\n",
       " (211, 0.7434177398681641),\n",
       " (94, 0.7589524984359741),\n",
       " (145, 0.8570691347122192),\n",
       " (88, 0.7004715800285339),\n",
       " (73, 0.8190903663635254),\n",
       " (105, 0.728148877620697),\n",
       " (227, 0.8678241968154907),\n",
       " (13, 0.6943320631980896),\n",
       " (247, 0.6736057996749878),\n",
       " (276, 0.8952149152755737),\n",
       " (198, 0.783901035785675),\n",
       " (64, 0.8007209897041321),\n",
       " (248, 0.7028661370277405),\n",
       " (64, 0.7785611152648926),\n",
       " (110, 0.8979820013046265),\n",
       " (80, 0.8263342380523682),\n",
       " (196, 0.6853545904159546),\n",
       " (118, 0.6926298141479492),\n",
       " (119, 0.7427037954330444),\n",
       " (107, 0.944983720779419),\n",
       " (171, 0.6675471663475037),\n",
       " (181, 0.7324262857437134),\n",
       " (195, 0.7918832898139954),\n",
       " (106, 0.8482528924942017),\n",
       " (247, 0.7751232385635376),\n",
       " (104, 0.9651659727096558),\n",
       " (84, 0.7756558060646057),\n",
       " (102, 0.7427527904510498),\n",
       " (98, 0.921387791633606),\n",
       " (136, 0.8101317882537842),\n",
       " (79, 0.7103113532066345),\n",
       " (93, 0.8537046313285828),\n",
       " (246, 0.7312685251235962),\n",
       " (104, 0.9617802500724792),\n",
       " (84, 0.7345932126045227),\n",
       " (284, 0.7610961198806763),\n",
       " (119, 0.9353073239326477),\n",
       " (259, 0.894294798374176),\n",
       " (120, 0.9458823204040527),\n",
       " (37, 0.8635021448135376),\n",
       " (119, 0.9350664615631104),\n",
       " (120, 0.9486343860626221),\n",
       " (30, 0.7355653047561646),\n",
       " (226, 0.7622670531272888),\n",
       " (205, 0.7320846915245056),\n",
       " (289, 0.6611316800117493),\n",
       " (231, 0.9090890288352966),\n",
       " (109, 0.5480059385299683),\n",
       " (133, 0.8461289405822754),\n",
       " (135, 0.8927692770957947),\n",
       " (211, 0.6702739596366882),\n",
       " (194, 0.7555316090583801),\n",
       " (227, 0.6269130110740662),\n",
       " (118, 0.9083430767059326),\n",
       " (127, 0.8335738778114319),\n",
       " (29, 0.7697668671607971),\n",
       " (128, 0.8673775792121887),\n",
       " (108, 0.851094663143158),\n",
       " (203, 0.8399632573127747),\n",
       " (228, 0.5766946077346802),\n",
       " (112, 0.8424599766731262),\n",
       " (167, 0.6733132004737854),\n",
       " (133, 0.7107757329940796),\n",
       " (166, 0.7733889818191528),\n",
       " (1, 0.7184218168258667),\n",
       " (256, 0.6559506058692932),\n",
       " (81, 0.8873743414878845),\n",
       " (112, 0.8226776123046875),\n",
       " (115, 0.7985129952430725),\n",
       " (60, 0.849731981754303),\n",
       " (30, 0.7603894472122192),\n",
       " (156, 0.9621366858482361),\n",
       " (185, 0.6913519501686096),\n",
       " (148, 0.6850607395172119),\n",
       " (50, 0.7699755430221558),\n",
       " (218, 0.7951050400733948),\n",
       " (103, 0.7525811195373535),\n",
       " (156, 0.9625667333602905),\n",
       " (23, 0.6869637966156006),\n",
       " (246, 0.7862802147865295),\n",
       " (58, 0.8092966675758362),\n",
       " (75, 0.7736836075782776),\n",
       " (168, 0.8044214844703674),\n",
       " (20, 0.739030122756958),\n",
       " (66, 0.6933187246322632),\n",
       " (61, 0.6447030305862427),\n",
       " (70, 0.7184629440307617),\n",
       " (69, 0.7893645167350769),\n",
       " (140, 0.692257821559906),\n",
       " (161, 0.7509392499923706),\n",
       " (125, 0.6987309455871582),\n",
       " (244, 0.8386035561561584),\n",
       " (193, 0.7317202687263489),\n",
       " (180, 0.742533266544342),\n",
       " (184, 0.8425090312957764),\n",
       " (125, 0.6267350316047668),\n",
       " (156, 0.7714291214942932),\n",
       " (159, 0.8320013880729675),\n",
       " (208, 0.7669632434844971),\n",
       " (9, 0.7212393283843994),\n",
       " (22, 0.8073418140411377),\n",
       " (154, 0.7483175992965698),\n",
       " (188, 0.7750390768051147),\n",
       " (191, 0.9305569529533386),\n",
       " (58, 0.8034889101982117),\n",
       " (173, 0.8240669965744019),\n",
       " (206, 0.7453861832618713),\n",
       " (234, 0.6637490391731262),\n",
       " (135, 0.9360071420669556),\n",
       " (181, 0.7751490473747253),\n",
       " (123, 0.7332103252410889),\n",
       " (271, 0.6712568402290344),\n",
       " (182, 0.9507774710655212),\n",
       " (176, 0.8088963627815247),\n",
       " (244, 0.7799475193023682),\n",
       " (103, 0.7910923957824707),\n",
       " (135, 0.8865035772323608),\n",
       " (207, 0.8399316668510437),\n",
       " (110, 0.8631892800331116),\n",
       " (89, 0.7024378180503845),\n",
       " (185, 0.7648494243621826),\n",
       " (176, 0.8157045841217041),\n",
       " (259, 0.8841094970703125),\n",
       " (228, 0.6833894848823547),\n",
       " (137, 0.7694895267486572),\n",
       " (155, 0.6828161478042603),\n",
       " (123, 0.8060370683670044),\n",
       " (185, 0.7966623902320862),\n",
       " (241, 0.8017451167106628),\n",
       " (277, 0.8300250172615051),\n",
       " (292, 0.8114123344421387),\n",
       " (225, 0.8205814361572266),\n",
       " (219, 0.7767511010169983),\n",
       " (157, 0.6801783442497253),\n",
       " (263, 0.7313018441200256),\n",
       " (29, 0.6695857048034668),\n",
       " (17, 0.8327518701553345),\n",
       " (243, 0.7426307797431946),\n",
       " (28, 0.6979185938835144),\n",
       " (154, 0.7703673839569092),\n",
       " (211, 0.7766775488853455),\n",
       " (148, 0.8708767294883728),\n",
       " (245, 0.7016006112098694),\n",
       " (185, 0.7335375547409058),\n",
       " (1, 0.786471426486969),\n",
       " (181, 0.7146514654159546),\n",
       " (210, 0.7669066786766052),\n",
       " (257, 0.7320762276649475),\n",
       " (85, 0.7779701352119446),\n",
       " (218, 0.7774463295936584),\n",
       " (270, 0.8125784397125244),\n",
       " (236, 0.9495053291320801),\n",
       " (125, 0.9029513597488403),\n",
       " (241, 0.9715081453323364),\n",
       " (261, 0.7520008087158203),\n",
       " (210, 0.7933661341667175),\n",
       " (220, 0.8329538702964783),\n",
       " (236, 0.949103832244873),\n",
       " (175, 0.749235212802887),\n",
       " (260, 0.7564325332641602),\n",
       " (265, 0.8393097519874573),\n",
       " (76, 0.7682284712791443),\n",
       " (241, 0.9729169011116028),\n",
       " (208, 0.8240982294082642),\n",
       " (249, 0.8206796050071716),\n",
       " (170, 0.8092684745788574),\n",
       " (221, 0.7066700458526611),\n",
       " (158, 0.8087227940559387),\n",
       " (262, 0.8486007452011108),\n",
       " (91, 0.8172702789306641),\n",
       " (74, 0.7732748985290527),\n",
       " (201, 0.8708967566490173),\n",
       " (31, 0.7138833999633789),\n",
       " (270, 0.7489377856254578),\n",
       " (237, 0.5648381114006042),\n",
       " (230, 0.8223540782928467),\n",
       " (0, 0.8426492810249329),\n",
       " (205, 0.7949550151824951),\n",
       " (226, 0.7038760781288147),\n",
       " (118, 0.8154574036598206),\n",
       " (116, 0.9255433678627014),\n",
       " (195, 0.7612175345420837),\n",
       " (74, 0.8178951144218445),\n",
       " (278, 0.8443943858146667),\n",
       " (271, 0.9347507357597351),\n",
       " (10, 0.7439391613006592),\n",
       " (239, 0.816379189491272),\n",
       " (258, 0.7975693941116333),\n",
       " (148, 0.8558169007301331),\n",
       " (183, 0.7639835476875305),\n",
       " (26, 0.6891165971755981),\n",
       " (106, 0.8040496110916138),\n",
       " (271, 0.9381082653999329),\n",
       " (255, 0.8445109128952026),\n",
       " (278, 0.8147664666175842),\n",
       " (293, 0.7387906312942505),\n",
       " (37, 0.8234592080116272),\n",
       " (88, 0.8626584410667419),\n",
       " (208, 0.9060823917388916),\n",
       " (262, 0.8208863735198975),\n",
       " (244, 0.8199121952056885),\n",
       " (70, 0.7067754864692688),\n",
       " (288, 0.9510321021080017),\n",
       " (150, 0.7275264263153076),\n",
       " (134, 0.5748019814491272),\n",
       " (107, 0.8023354411125183),\n",
       " (251, 0.7909284830093384),\n",
       " (76, 0.5971258878707886),\n",
       " (262, 0.8146721720695496),\n",
       " (288, 0.9487831592559814),\n",
       " (298, 0.7165363430976868),\n",
       " (210, 0.6397085785865784),\n",
       " (203, 0.8164317011833191),\n",
       " (13, 0.7897098660469055),\n",
       " (274, 0.7876136302947998),\n",
       " (137, 0.6328861713409424),\n",
       " (65, 0.5573973059654236),\n",
       " (121, 0.6834448575973511),\n",
       " (26, 0.6659130454063416),\n",
       " (22, 0.7637816071510315),\n",
       " (112, 0.7939420342445374)]"
      ]
     },
     "execution_count": 17,
     "metadata": {},
     "output_type": "execute_result"
    }
   ],
   "source": [
    "second_ranks"
   ]
  },
  {
   "cell_type": "code",
   "execution_count": 18,
   "metadata": {},
   "outputs": [
    {
     "data": {
      "text/plain": [
       "TaggedDocument(words=['six', 'midwives', 'have', 'been', 'suspended', 'at', 'wollongong', 'hospital', 'south', 'of', 'sydney', 'for', 'inappropriate', 'use', 'of', 'nitrous', 'oxide', 'during', 'work', 'hours', 'on', 'some', 'occasions', 'while', 'women', 'were', 'in', 'labour', 'the', 'illawarra', 'area', 'health', 'service', 'says', 'that', 'following', 'an', 'investigation', 'of', 'unprofessional', 'conduct', 'further', 'four', 'midwives', 'have', 'been', 'relocated', 'to', 'other', 'areas', 'within', 'the', 'hospital', 'the', 'service', 'chief', 'executive', 'officer', 'tony', 'sherbon', 'says', 'no', 'one', 'was', 'put', 'at', 'risk', 'because', 'other', 'staff', 'not', 'involved', 'in', 'the', 'use', 'of', 'nitrous', 'oxide', 'were', 'able', 'to', 'take', 'over', 'caring', 'for', 'women', 'in', 'labour', 'well', 'we', 're', 'very', 'concerned', 'and', 'the', 'body', 'of', 'midwives', 'to', 'the', 'hospital', 'there', 'are', 'over', 'midwives', 'that', 'work', 'in', 'our', 'service', 'are', 'very', 'annoyed', 'and', 'angry', 'at', 'the', 'inappropriate', 'behaviour', 'of', 'these', 'very', 'senior', 'people', 'who', 'should', 'know', 'better', 'he', 'said', 'and', 'that', 'why', 'we', 've', 'take', 'the', 'action', 'of', 'suspending', 'them', 'and', 'we', 'll', 'consider', 'further', 'action', 'next', 'week'], tags=[4])"
      ]
     },
     "execution_count": 18,
     "metadata": {},
     "output_type": "execute_result"
    }
   ],
   "source": [
    "train_corpus[4]"
   ]
  },
  {
   "cell_type": "code",
   "execution_count": 19,
   "metadata": {},
   "outputs": [
    {
     "name": "stdout",
     "output_type": "stream",
     "text": [
      "Counter({0: 292, 1: 8})\n"
     ]
    }
   ],
   "source": [
    "import collections\n",
    "\n",
    "counter = collections.Counter(ranks)\n",
    "print(counter)"
   ]
  },
  {
   "cell_type": "code",
   "execution_count": 20,
   "metadata": {},
   "outputs": [
    {
     "name": "stdout",
     "output_type": "stream",
     "text": [
      "Document (299): «australia will take on france in the doubles rubber of the davis cup tennis final today with the tie levelled at wayne arthurs and todd woodbridge are scheduled to lead australia in the doubles against cedric pioline and fabrice santoro however changes can be made to the line up up to an hour before the match and australian team captain john fitzgerald suggested he might do just that we ll make team appraisal of the whole situation go over the pros and cons and make decision french team captain guy forget says he will not make changes but does not know what to expect from australia todd is the best doubles player in the world right now so expect him to play he said would probably use wayne arthurs but don know what to expect really pat rafter salvaged australia davis cup campaign yesterday with win in the second singles match rafter overcame an arm injury to defeat french number one sebastien grosjean in three sets the australian says he is happy with his form it not very pretty tennis there isn too many consistent bounces you are playing like said bit of classic old grass court rafter said rafter levelled the score after lleyton hewitt shock five set loss to nicholas escude in the first singles rubber but rafter says he felt no added pressure after hewitt defeat knew had good team to back me up even if we were down he said knew could win on the last day know the boys can win doubles so even if we were down still feel we are good enough team to win and vice versa they are good enough team to beat us as well»\n",
      "\n"
     ]
    }
   ],
   "source": [
    "print('Document ({}): «{}»\\n'.format(doc_id, ' '.join(train_corpus[doc_id].words)))"
   ]
  },
  {
   "cell_type": "code",
   "execution_count": 21,
   "metadata": {},
   "outputs": [
    {
     "name": "stdout",
     "output_type": "stream",
     "text": [
      "SIMILAR/DISSIMILAR DOCS PER MODEL Doc2Vec(dm/m,d50,n5,w5,mc2,s0.001,t3):\n",
      "\n"
     ]
    }
   ],
   "source": [
    "print(u'SIMILAR/DISSIMILAR DOCS PER MODEL %s:\\n' % model)\n"
   ]
  },
  {
   "cell_type": "code",
   "execution_count": 22,
   "metadata": {},
   "outputs": [
    {
     "name": "stdout",
     "output_type": "stream",
     "text": [
      "MOST (299, 0.9493477940559387): «australia will take on france in the doubles rubber of the davis cup tennis final today with the tie levelled at wayne arthurs and todd woodbridge are scheduled to lead australia in the doubles against cedric pioline and fabrice santoro however changes can be made to the line up up to an hour before the match and australian team captain john fitzgerald suggested he might do just that we ll make team appraisal of the whole situation go over the pros and cons and make decision french team captain guy forget says he will not make changes but does not know what to expect from australia todd is the best doubles player in the world right now so expect him to play he said would probably use wayne arthurs but don know what to expect really pat rafter salvaged australia davis cup campaign yesterday with win in the second singles match rafter overcame an arm injury to defeat french number one sebastien grosjean in three sets the australian says he is happy with his form it not very pretty tennis there isn too many consistent bounces you are playing like said bit of classic old grass court rafter said rafter levelled the score after lleyton hewitt shock five set loss to nicholas escude in the first singles rubber but rafter says he felt no added pressure after hewitt defeat knew had good team to back me up even if we were down he said knew could win on the last day know the boys can win doubles so even if we were down still feel we are good enough team to win and vice versa they are good enough team to beat us as well»\n",
      "\n",
      "SECOND-MOST (112, 0.7939420342445374): «australian cricket captain steve waugh has supported fast bowler brett lee after criticism of his intimidatory bowling to the south african tailenders in the first test in adelaide earlier this month lee was fined for giving new zealand tailender shane bond an unsportsmanlike send off during the third test in perth waugh says tailenders should not be protected from short pitched bowling these days you re earning big money you ve got responsibility to learn how to bat he said mean there no times like years ago when it was not professional and sort of bowlers code these days you re professional our batsmen work very hard at their batting and expect other tailenders to do likewise meanwhile waugh says his side will need to guard against complacency after convincingly winning the first test by runs waugh says despite the dominance of his side in the first test south africa can never be taken lightly it only one test match out of three or six whichever way you want to look at it so there lot of work to go he said but it nice to win the first battle definitely it gives us lot of confidence going into melbourne you know the big crowd there we love playing in front of the boxing day crowd so that will be to our advantage as well south africa begins four day match against new south wales in sydney on thursday in the lead up to the boxing day test veteran fast bowler allan donald will play in the warm up match and is likely to take his place in the team for the second test south african captain shaun pollock expects much better performance from his side in the melbourne test we still believe that we didn play to our full potential so if we can improve on our aspects the output we put out on the field will be lot better and we still believe we have side that is good enough to beat australia on our day he said»\n",
      "\n",
      "MEDIAN (106, 0.24560265243053436): «the federal government has called on labor not to delay its plans to increase the australian security intelligence organisation asio powers to combat terrorism labor wants parliamentary inquiry to be set up to examine proposals to significantly increase asio powers to detain and interrogate suspects under proposed legislation to go before parliament next year asio would have the power to detain suspects for up to hours without charge and legal representation if the opposition push for an investigation is successful that could postpone debate on the bill for up to several months but labor spokesman on home affairs john faulkner says the opposition does not want to unnecessarily delay the proposed legislation we want to make sure that it is dealt with quickly by the parliament but we also want to make sure that these important and unprecedented new powers for asio get the most thorough public examination and airing that possible he said attorney general daryl williams says the government is relying on labor not to obstruct the bill passage we re looking to labor support for this he said labor has supported the counter terrorism proposals we put forward and we believe that this is an appropriate one for them to support as well meanwhile the federal government is under pressure to release more details about plans to place armed security officers on domestic flights the police federation and unions are criticising the government handling of security at australia airports the federal government says armed air marshals will be on all domestic flights by christmas move which has the police federation concerned chief executive mark burgess there are not enough details we know very little about what is proposed we know virtually nothing about the training that these people will be afforded he said warren bennett from the board of airline representatives says he understands why the plans are being put in place but says airlines are wary of the move it always bit of concern to the captain that there would be anyone with some sort of weapon on the plane he said unions are also worried saying workers at airports are not being given adequate training to cope with upgraded security measures after the terrorist attacks of september»\n",
      "\n",
      "LEAST (223, -0.09049967676401138): «indonesian troop re enforcements have started arriving in central sulawesi as the government attempts to end days of deadly clashes between christians and muslims violence in the last week has claimed at least eight lives and left thousands of people homeless more than police and soldiers are being sent in to disarm rival groups and restore calm there have been no new reports of violence but residents in the christian town of ten tena say they fear further attacks by muslim militiamen taking up positions in the hills around the town in region where fighting between muslims and christians has claimed hundreds of lives in the last two years many blame the latest upsurge in violence on the arrival of members of the laskar jihad muslim militia from training camps in java and from the neighbouring maluka islands»\n",
      "\n"
     ]
    }
   ],
   "source": [
    "for label, index in [('MOST', 0), ('SECOND-MOST', 1), ('MEDIAN', len(sims)//2), ('LEAST', len(sims) - 1)]:\n",
    "    print(u'%s %s: «%s»\\n' % (label, sims[index], ' '.join(train_corpus[sims[index][0]].words)))\n"
   ]
  },
  {
   "cell_type": "code",
   "execution_count": 23,
   "metadata": {
    "scrolled": true
   },
   "outputs": [
    {
     "name": "stdout",
     "output_type": "stream",
     "text": [
      "Train Document (247): «the royal commission into hih has been adjourned until monday after interviewing of the first witness ended abruptly lawyers acting on behalf of several former hih directors requested that cross examination of david lombe and an inspector appointed by insurance watchdog the australian prudential regulation authority apra be held at later date the commission was due to hear evidence from mr lombe after the details of his report for apra were read in this morning hearing the report raises allegations that corporate governance was inadequate and concealed the true state of hih financial position the report questions the solvency of hih prior to it being placed into provisional liquidation on march it raises issues of intangible assets like tax and goodwill being treated as tangible for the acquisition of allianz to boost the financial position of hih the report also says significant losses by hih in the united states and the united kingdom were concealed from apra at meetings last year the commission has also heard apra had serious concerns about the accounting practices being followed by hih in july last year»\n",
      "\n",
      "Similar Document (247, 0.9461315274238586): «the royal commission into hih has been adjourned until monday after interviewing of the first witness ended abruptly lawyers acting on behalf of several former hih directors requested that cross examination of david lombe and an inspector appointed by insurance watchdog the australian prudential regulation authority apra be held at later date the commission was due to hear evidence from mr lombe after the details of his report for apra were read in this morning hearing the report raises allegations that corporate governance was inadequate and concealed the true state of hih financial position the report questions the solvency of hih prior to it being placed into provisional liquidation on march it raises issues of intangible assets like tax and goodwill being treated as tangible for the acquisition of allianz to boost the financial position of hih the report also says significant losses by hih in the united states and the united kingdom were concealed from apra at meetings last year the commission has also heard apra had serious concerns about the accounting practices being followed by hih in july last year»\n",
      "\n"
     ]
    }
   ],
   "source": [
    "# Pick a random document from the corpus and infer a vector from the model\n",
    "import random\n",
    "doc_id = random.randint(0, len(train_corpus) - 1)\n",
    "\n",
    "# Compare and print the second-most-similar document\n",
    "print('Train Document ({}): «{}»\\n'.format(doc_id, ' '.join(train_corpus[doc_id].words)))\n",
    "sim_id = first_ranks[doc_id]\n",
    "print('Similar Document {}: «{}»\\n'.format(sim_id, ' '.join(train_corpus[sim_id[0]].words)))"
   ]
  },
  {
   "cell_type": "code",
   "execution_count": 24,
   "metadata": {
    "scrolled": true
   },
   "outputs": [
    {
     "name": "stdout",
     "output_type": "stream",
     "text": [
      "Test Document (22): «the biowarfare expert under scrutiny in the anthrax attacks declared am not the anthrax killer and lashed out today against attorney general john ashcroft for calling him person of interest in the investigation for the second time in two weeks the scientist went before throng of reporters outside his lawyer office to profess his innocence and decry the attention from law enforcers that he contends has destroyed his life»\n",
      "\n",
      "SIMILAR/DISSIMILAR DOCS PER MODEL Doc2Vec(dm/m,d50,n5,w5,mc2,s0.001,t3):\n",
      "\n",
      "MOST (23, 0.6958336234092712): «americans fears about airplane security continue to increase after man made it through two separate flights with loaded gun in his carry on luggage the man was finally stopped before boarding third plane in memphis the man had travelled from florida to atlanta and then atlanta to memphis he was attempting to board his return flight last night when he was stopped by security personnel for random check they discovered loaded mm beretta semi automatic pistol in his hand luggage the man acknowledged the gun was his and was released on bail there is no suggestion he was planning any sort of terrorist attack but his ability to complete two flights while carrying the weapon has again highlighted airline security problems the incident follows last week drama when man was able to board plane from paris to miami with explosives in his shoes»\n",
      "\n",
      "MEDIAN (199, 0.33110904693603516): «the royal commission into the building industry has ended the first day of public hearings in melbourne counsel assisting lionel robbards qc told the commission of culture of fear in the building industry he said some witnesses were afraid to come forward after being physically threatened the construction forestry mining and energy union cfmeu secretary martin kingham will respond to allegations made against the unions when he gives evidence tomorrow it coincides with rally by thousands of building workers outside collins place where the commission is being held»\n",
      "\n",
      "LEAST (84, -0.08805839717388153): «it has been confirmed two asylum seekers at the woomera detention centre have mutilated themselves during the current unrest the department has confirmed two asylum seekers harmed themselves yesterday an ambulance was seen entering and leaving the facility at high speed but the director of nursing at woomera hospital says no one from the detention centre has been admitted there since monday night unrest continued at the facility overnight with collective voice of detainees chanting visa the immigration department has confirmed at least to detainees breached compound fencing into prohibited zone in the facility overnight twenty two buildings have been destroyed or damaged by fire in three days it is thought the cooler temperatures expected in woomera today may lead to heightened daytime detainee activity south australian police are expected to reveal details soon of their operations after three days of detainee riots meanwhile coalition of australian religious leaders is calling for greater intake of refugees leaders from christian islamic and jewish communities are meeting in melbourne in response to what they say is detention system out of step with religious values the reverend tim costello says it is important for christians to remember jesus was refugee he says australians need to look beyond the small number of trouble makers at the woomera centre if the taliban was such an evil government for us to go to war against and risk our boys dying then surely those fleeing that government deserve our compassion he said»\n",
      "\n"
     ]
    }
   ],
   "source": [
    "# Pick a random document from the test corpus and infer a vector from the model\n",
    "doc_id = random.randint(0, len(test_corpus) - 1)\n",
    "inferred_vector = model.infer_vector(test_corpus[doc_id])\n",
    "sims = model.dv.most_similar([inferred_vector], topn=len(model.dv))\n",
    "\n",
    "# Compare and print the most/median/least similar documents from the train corpus\n",
    "print('Test Document ({}): «{}»\\n'.format(doc_id, ' '.join(test_corpus[doc_id])))\n",
    "print(u'SIMILAR/DISSIMILAR DOCS PER MODEL %s:\\n' % model)\n",
    "for label, index in [('MOST', 0), ('MEDIAN', len(sims)//2), ('LEAST', len(sims) - 1)]:\n",
    "    print(u'%s %s: «%s»\\n' % (label, sims[index], ' '.join(train_corpus[sims[index][0]].words)))"
   ]
  },
  {
   "cell_type": "markdown",
   "metadata": {},
   "source": [
    "### Challenge: Use the senator speeches in the folder 105-extracted-date and use doc2vec to find whose senator speech is closest to senator Biden. Use sen105kh_fix.csv and/or Wikipedia to validate your findings (i.e., understand if the most similar speeches are senators from the same state and/party).  Describe your findings. Compare with the outcome you got/will get using cosine similarity."
   ]
  },
  {
   "cell_type": "code",
   "execution_count": 25,
   "metadata": {},
   "outputs": [],
   "source": [
    "#https://radimrehurek.com/gensim/auto_examples/tutorials/run_doc2vec_lee.html"
   ]
  }
 ],
 "metadata": {
  "kernelspec": {
   "display_name": "Python 3",
   "language": "python",
   "name": "python3"
  },
  "language_info": {
   "codemirror_mode": {
    "name": "ipython",
    "version": 3
   },
   "file_extension": ".py",
   "mimetype": "text/x-python",
   "name": "python",
   "nbconvert_exporter": "python",
   "pygments_lexer": "ipython3",
   "version": "3.8.5"
  }
 },
 "nbformat": 4,
 "nbformat_minor": 4
}
